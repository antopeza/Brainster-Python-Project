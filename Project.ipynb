{
 "cells": [
  {
   "cell_type": "markdown",
   "metadata": {},
   "source": [
    "# Project Brief\n",
    "This is a countrywide car accident dataset, which covers 49 states of the United States. The data is collected from February 2016 to December 2019, using several data providers, including two APIs that provide streaming traffic incident data. These APIs broadcast traffic data captured by a variety of entities, such as the US and state departments of transportation, law enforcement agencies, traffic cameras, and traffic sensors within the roadnetworks. Currently, there are about 3.0 million accident records in this dataset.\n",
    "\n",
    "You will be provided with a dataset of US car accidents.\n",
    "- Read the dataset into Pandas\n",
    "- Check to see if any of the columns have null/missing values and determine the best strategy for cleaning up the data (including not doing anything)"
   ]
  },
  {
   "cell_type": "markdown",
   "metadata": {},
   "source": [
    "<b>You will be evaluated on the following:</b>\n",
    "\n",
    "## Data Processing and Manipulation\n",
    "- Find the state that has the most accidents\n",
    "- Find the state that has the most number of most severe accidents\n",
    "- Find the most common hour at which accidents have occurred\n",
    "- Find the average duration of an accident\n",
    "- Find the average number of yearly accidents per city\n",
    "\n",
    "## Factors Affecting Accident Severity\n",
    "- Examine the relationship between accident severity and other accident information such as time, weather and location\n",
    "\n",
    "## Visualisation per State\n",
    "- Create state-wise visualizations of multiple data points\n",
    "\n"
   ]
  },
  {
   "cell_type": "code",
   "execution_count": null,
   "metadata": {},
   "outputs": [],
   "source": []
  }
 ],
 "metadata": {
  "kernelspec": {
   "display_name": "Python 3",
   "language": "python",
   "name": "python3"
  },
  "language_info": {
   "codemirror_mode": {
    "name": "ipython",
    "version": 3
   },
   "file_extension": ".py",
   "mimetype": "text/x-python",
   "name": "python",
   "nbconvert_exporter": "python",
   "pygments_lexer": "ipython3",
   "version": "3.8.5"
  }
 },
 "nbformat": 4,
 "nbformat_minor": 4
}
