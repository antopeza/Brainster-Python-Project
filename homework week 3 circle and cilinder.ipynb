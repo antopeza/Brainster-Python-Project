{
 "cells": [
  {
   "cell_type": "code",
   "execution_count": null,
   "id": "bcd695e5",
   "metadata": {},
   "outputs": [],
   "source": [
    "\"\"\"\"\n",
    "Ejercicio 1 (10 puntos)\n",
    "Escribe una clase llamada Círculo:\n",
    "\n",
    "El constructor tiene un argumento 'r' el radio de un círculo y establece ese valor en un atributo privado llamado radio.\n",
    "Escriba un método llamado calc_area que calcule el área de un círculo.\n",
    "Implemente un método getter y setter para el atributo de radio usando la función de propiedad incorporada.\n",
    "Asegúrese de que el método de establecimiento compruebe si el radio que se establece es positivo.\n",
    "Si es negativo, imprime un mensaje \"Los círculos no pueden tener un radio negativo\".\n",
    "\n",
    "Ejercicio 2 (10 puntos)\n",
    "Escriba una clase llamada Cilindro que herede de Círculo:\n",
    "\n",
    "El constructor tiene dos argumentos, 'r' el radio de un círculo a los lados del cilindro y 'h' la altura de un cilindro.\n",
    "El constructor está llamando al constructor de la clase Circle para inicializar el valor del radio.\n",
    "El constructor también establece el valor de h en un atributo llamado 'altura'\n",
    "Anule el método calc_area que calcula el área de un cilindro.\n",
    "Escriba un método llamado calc_volume que calcule el volumen de un cilindro.\n",
    "Implemente un método getter y setter para el atributo de altura utilizando la función de propiedad incorporada.\n",
    "Asegúrese de que el método de establecimiento compruebe si la altura que se establece es positiva.\n",
    "Si es negativo, imprime un mensaje \"Los cilindros no pueden tener altura negativa\".\n",
    "\"\"\"\"\n",
    "\n"
   ]
  },
  {
   "cell_type": "code",
   "execution_count": 4,
   "id": "a9a26259",
   "metadata": {},
   "outputs": [],
   "source": [
    "#Exercise 1 - calculate area of a class called Circle \n",
    "\n",
    "\n",
    "import math\n",
    "\n",
    "class Circle: \n",
    "    \n",
    "    def __init__(self, r):\n",
    "        self.__radius = r\n",
    "    \n",
    "    def calc_area(self):\n",
    "        \n",
    "        if self.__radius >= 0: \n",
    "            area = math.pi*self.__radius**2\n",
    "            return area\n",
    "        \n",
    "        else: \n",
    "            return \"Circles cannot have negative radius.\"\n",
    "    \n",
    "    def get_radius(self):\n",
    "        return self.__radius\n",
    "    \n",
    "    def set_radius(self, r):\n",
    "        self.__radius = r\n",
    "        r = property(get_radius, set_radius)\n",
    "\n",
    "              \n",
    "#Exercise 2: calculate volume of a class called Cilinder \n",
    "\n",
    "class Cilinder(Circle): \n",
    "    \n",
    "    def __init__(self, r, h):\n",
    "        self.__radius = r\n",
    "        self.__hight = h \n",
    "         \n",
    "    def calc_area(self):\n",
    "        \n",
    "        if ((self.__radius >=0) and (self.__hight >=0)):\n",
    "            volume = (math.pi*self.__radius**2)*self.__hight\n",
    "            return volume\n",
    "        \n",
    "        else: \n",
    "             return \"Cilinders cannot have negative highs or radius.\" \n",
    "\n",
    "    def get_hight(self):\n",
    "            return self.__hight\n",
    "\n",
    "    def set_hight(self,h):\n",
    "            self.__hight = h\n",
    "            h = property(get_hight, set_hight)            \n",
    "            "
   ]
  },
  {
   "cell_type": "code",
   "execution_count": 17,
   "id": "a2b37b75",
   "metadata": {},
   "outputs": [
    {
     "name": "stdout",
     "output_type": "stream",
     "text": [
      "28.274333882308138\n",
      "254.46900494077323\n"
     ]
    }
   ],
   "source": [
    "circulo = Circle(3)\n",
    "print(circulo.calc_area())\n",
    "\n",
    "\n",
    "r = circulo.get_radius()\n",
    "cilindro = Cilinder(r,9)\n",
    "print(cilindro.calc_area())"
   ]
  }
 ],
 "metadata": {
  "kernelspec": {
   "display_name": "Python 3 (ipykernel)",
   "language": "python",
   "name": "python3"
  },
  "language_info": {
   "codemirror_mode": {
    "name": "ipython",
    "version": 3
   },
   "file_extension": ".py",
   "mimetype": "text/x-python",
   "name": "python",
   "nbconvert_exporter": "python",
   "pygments_lexer": "ipython3",
   "version": "3.9.7"
  }
 },
 "nbformat": 4,
 "nbformat_minor": 5
}
