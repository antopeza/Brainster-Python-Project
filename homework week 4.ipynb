{
 "cells": [
  {
   "cell_type": "code",
   "execution_count": null,
   "id": "e983edd5",
   "metadata": {},
   "outputs": [],
   "source": [
    "''''\n",
    "Week 4 Homework Assignment\n",
    "\n",
    "Deadline: 28 January 2022 21:00\n",
    "Weighting: 10 points\n",
    "Submission: Google Drive Folder\n",
    "\n",
    "The aim of this exercise is to create a function factory which contains another function to multiply the list of arguments by 10.\n",
    "\n",
    "Create a function named multiplier which takes in func as an argument\n",
    "Create a function within the multiplier function named times_10 which takes a list argument named items\n",
    "Use a lambda function to multiple each item in the items list by 10\n",
    "Use a map function to map items to the lambda function\n",
    "Return times_10 function\n",
    "Create another function named add which has the multiplier decorator assigned to it. The function should accept items as an argument.\n",
    "Return the items received as an argument\n",
    "For bonus marks: (5)\n",
    "\n",
    "Create another function named sum which uses the @multipler decorator\n",
    "The function should call the add function\n",
    "The function should use the reduce function to sum the numbers returned when calling the add function\n",
    "Return the result of the reduce function for the sum function\n",
    "Don't forget to test your code!\n",
    "'''''\n",
    "\n"
   ]
  },
  {
   "cell_type": "code",
   "execution_count": null,
   "id": "0770f066",
   "metadata": {},
   "outputs": [],
   "source": [
    "from functools import reduce\n",
    "\n",
    "# f is a function\n",
    "\n",
    "def multiplier(f):\n",
    "    def h(x):\n",
    "        return f(x)\n",
    "    return h # we return the function object h\n",
    "\n",
    "# multiplier function\n",
    "\n",
    "    def times_10(*items):\n",
    "        return list(map(lambda x:x *10, numbers))\n",
    "\n",
    "\n",
    "@multiplier\n",
    "def add(items):\n",
    "    return items\n",
    "   \n",
    "@multiplier\n",
    "def sum(items):\n",
    "    suma = reduce(lambda x, y: x + y, items)\n",
    "    return suma    \n",
    "\n",
    "\n",
    "\n",
    "\"\"\"\" TESTER\n",
    "multiplicador = multiplier(times_10)\n",
    "numeros= multiplier(add)\n",
    "suma=multiplier(sum)   \n",
    "\n",
    "# Ejecucion\n",
    "\n",
    "numbers = [1,2,3,4,5,6]\n",
    "print(numeros(numbers))\n",
    "print(multiplicador(numbers))\n",
    "print(suma(numbers))   ---> ERROR \n",
    "\"\"\"\""
   ]
  }
 ],
 "metadata": {
  "kernelspec": {
   "display_name": "Python 3 (ipykernel)",
   "language": "python",
   "name": "python3"
  },
  "language_info": {
   "codemirror_mode": {
    "name": "ipython",
    "version": 3
   },
   "file_extension": ".py",
   "mimetype": "text/x-python",
   "name": "python",
   "nbconvert_exporter": "python",
   "pygments_lexer": "ipython3",
   "version": "3.9.7"
  }
 },
 "nbformat": 4,
 "nbformat_minor": 5
}
