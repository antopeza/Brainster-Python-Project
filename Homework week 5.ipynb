{
 "cells": [
  {
   "cell_type": "code",
   "execution_count": 14,
   "id": "6b6d069d",
   "metadata": {},
   "outputs": [
    {
     "name": "stdout",
     "output_type": "stream",
     "text": [
      "[5 9 3 1 2 7 1 7 5 6]\n",
      "(array([2, 3, 5, 6, 7, 9]), array([3, 1, 1, 1, 1, 3], dtype=int64))\n",
      "3\n"
     ]
    }
   ],
   "source": [
    "import numpy as np \n",
    "\n",
    "#def find_unique(random_list): \n",
    "    \n",
    "    \n",
    "def generate_random():\n",
    "    \n",
    "    random_list = np.random.randint(1,11,10)\n",
    "    \n",
    "    return random_list\n",
    "\n",
    "def find_unique(lista):\n",
    "    \n",
    "    return np.unique(lista, return_counts = True)\n",
    "    \n",
    "   # return unique\n",
    "\n",
    "def find_highest_occurence(lista):\n",
    "    \n",
    "    return np.argmax(lista)\n",
    "    \n",
    "    \n",
    "    \n",
    "\n",
    "lista = generate_random()\n",
    "resultado = find_unique(lista)\n",
    "\n",
    "print(generate_random())\n",
    "#print(resultado)\n",
    "print(find_unique(lista))\n",
    "print(find_highest_occurence(lista))"
   ]
  }
 ],
 "metadata": {
  "kernelspec": {
   "display_name": "Python 3 (ipykernel)",
   "language": "python",
   "name": "python3"
  },
  "language_info": {
   "codemirror_mode": {
    "name": "ipython",
    "version": 3
   },
   "file_extension": ".py",
   "mimetype": "text/x-python",
   "name": "python",
   "nbconvert_exporter": "python",
   "pygments_lexer": "ipython3",
   "version": "3.9.7"
  }
 },
 "nbformat": 4,
 "nbformat_minor": 5
}
